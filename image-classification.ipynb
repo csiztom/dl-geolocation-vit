{
 "cells": [
  {
   "cell_type": "markdown",
   "metadata": {},
   "source": [
    "## Installation"
   ]
  },
  {
   "cell_type": "code",
   "execution_count": 1,
   "metadata": {},
   "outputs": [
    {
     "name": "stdout",
     "output_type": "stream",
     "text": [
      "Requirement already satisfied: datasets in /opt/homebrew/anaconda3/envs/tf/lib/python3.9/site-packages (2.14.6)\n",
      "Requirement already satisfied: transformers in /opt/homebrew/anaconda3/envs/tf/lib/python3.9/site-packages (4.34.1)\n",
      "Requirement already satisfied: tensorboard in /opt/homebrew/anaconda3/envs/tf/lib/python3.9/site-packages (2.14.1)\n",
      "Requirement already satisfied: tensorflow in /opt/homebrew/anaconda3/envs/tf/lib/python3.9/site-packages (2.14.0)\n",
      "Requirement already satisfied: ipywidgets in /opt/homebrew/anaconda3/envs/tf/lib/python3.9/site-packages (8.1.1)\n",
      "Requirement already satisfied: opencv-python in /opt/homebrew/anaconda3/envs/tf/lib/python3.9/site-packages (4.8.1.78)\n",
      "Requirement already satisfied: tensorflow-datasets in /opt/homebrew/anaconda3/envs/tf/lib/python3.9/site-packages (4.9.3)\n",
      "Requirement already satisfied: numpy>=1.17 in /opt/homebrew/anaconda3/envs/tf/lib/python3.9/site-packages (from datasets) (1.26.1)\n",
      "Requirement already satisfied: pyarrow>=8.0.0 in /opt/homebrew/anaconda3/envs/tf/lib/python3.9/site-packages (from datasets) (13.0.0)\n",
      "Requirement already satisfied: dill<0.3.8,>=0.3.0 in /opt/homebrew/anaconda3/envs/tf/lib/python3.9/site-packages (from datasets) (0.3.7)\n",
      "Requirement already satisfied: pandas in /opt/homebrew/anaconda3/envs/tf/lib/python3.9/site-packages (from datasets) (2.1.1)\n",
      "Requirement already satisfied: requests>=2.19.0 in /opt/homebrew/anaconda3/envs/tf/lib/python3.9/site-packages (from datasets) (2.31.0)\n",
      "Requirement already satisfied: tqdm>=4.62.1 in /opt/homebrew/anaconda3/envs/tf/lib/python3.9/site-packages (from datasets) (4.66.1)\n",
      "Requirement already satisfied: xxhash in /opt/homebrew/anaconda3/envs/tf/lib/python3.9/site-packages (from datasets) (3.4.1)\n",
      "Requirement already satisfied: multiprocess in /opt/homebrew/anaconda3/envs/tf/lib/python3.9/site-packages (from datasets) (0.70.15)\n",
      "Requirement already satisfied: fsspec<=2023.10.0,>=2023.1.0 in /opt/homebrew/anaconda3/envs/tf/lib/python3.9/site-packages (from fsspec[http]<=2023.10.0,>=2023.1.0->datasets) (2023.10.0)\n",
      "Requirement already satisfied: aiohttp in /opt/homebrew/anaconda3/envs/tf/lib/python3.9/site-packages (from datasets) (3.8.6)\n",
      "Requirement already satisfied: huggingface-hub<1.0.0,>=0.14.0 in /opt/homebrew/anaconda3/envs/tf/lib/python3.9/site-packages (from datasets) (0.17.3)\n",
      "Requirement already satisfied: packaging in /opt/homebrew/anaconda3/envs/tf/lib/python3.9/site-packages (from datasets) (23.2)\n",
      "Requirement already satisfied: pyyaml>=5.1 in /opt/homebrew/anaconda3/envs/tf/lib/python3.9/site-packages (from datasets) (6.0.1)\n",
      "Requirement already satisfied: filelock in /opt/homebrew/anaconda3/envs/tf/lib/python3.9/site-packages (from transformers) (3.12.4)\n",
      "Requirement already satisfied: regex!=2019.12.17 in /opt/homebrew/anaconda3/envs/tf/lib/python3.9/site-packages (from transformers) (2023.10.3)\n",
      "Requirement already satisfied: tokenizers<0.15,>=0.14 in /opt/homebrew/anaconda3/envs/tf/lib/python3.9/site-packages (from transformers) (0.14.1)\n",
      "Requirement already satisfied: safetensors>=0.3.1 in /opt/homebrew/anaconda3/envs/tf/lib/python3.9/site-packages (from transformers) (0.4.0)\n",
      "Requirement already satisfied: absl-py>=0.4 in /opt/homebrew/anaconda3/envs/tf/lib/python3.9/site-packages (from tensorboard) (1.4.0)\n",
      "Requirement already satisfied: grpcio>=1.48.2 in /opt/homebrew/anaconda3/envs/tf/lib/python3.9/site-packages (from tensorboard) (1.59.0)\n",
      "Requirement already satisfied: google-auth<3,>=1.6.3 in /opt/homebrew/anaconda3/envs/tf/lib/python3.9/site-packages (from tensorboard) (2.23.3)\n",
      "Requirement already satisfied: google-auth-oauthlib<1.1,>=0.5 in /opt/homebrew/anaconda3/envs/tf/lib/python3.9/site-packages (from tensorboard) (1.0.0)\n",
      "Requirement already satisfied: markdown>=2.6.8 in /opt/homebrew/anaconda3/envs/tf/lib/python3.9/site-packages (from tensorboard) (3.5)\n",
      "Requirement already satisfied: protobuf>=3.19.6 in /opt/homebrew/anaconda3/envs/tf/lib/python3.9/site-packages (from tensorboard) (3.20.3)\n",
      "Requirement already satisfied: setuptools>=41.0.0 in /opt/homebrew/anaconda3/envs/tf/lib/python3.9/site-packages (from tensorboard) (68.2.2)\n",
      "Requirement already satisfied: six>1.9 in /opt/homebrew/anaconda3/envs/tf/lib/python3.9/site-packages (from tensorboard) (1.16.0)\n",
      "Requirement already satisfied: tensorboard-data-server<0.8.0,>=0.7.0 in /opt/homebrew/anaconda3/envs/tf/lib/python3.9/site-packages (from tensorboard) (0.7.2)\n",
      "Requirement already satisfied: werkzeug>=1.0.1 in /opt/homebrew/anaconda3/envs/tf/lib/python3.9/site-packages (from tensorboard) (3.0.1)\n",
      "Requirement already satisfied: tensorflow-macos==2.14.0 in /opt/homebrew/anaconda3/envs/tf/lib/python3.9/site-packages (from tensorflow) (2.14.0)\n",
      "Requirement already satisfied: astunparse>=1.6.0 in /opt/homebrew/anaconda3/envs/tf/lib/python3.9/site-packages (from tensorflow-macos==2.14.0->tensorflow) (1.6.3)\n",
      "Requirement already satisfied: flatbuffers>=23.5.26 in /opt/homebrew/anaconda3/envs/tf/lib/python3.9/site-packages (from tensorflow-macos==2.14.0->tensorflow) (23.5.26)\n",
      "Requirement already satisfied: gast!=0.5.0,!=0.5.1,!=0.5.2,>=0.2.1 in /opt/homebrew/anaconda3/envs/tf/lib/python3.9/site-packages (from tensorflow-macos==2.14.0->tensorflow) (0.5.4)\n",
      "Requirement already satisfied: google-pasta>=0.1.1 in /opt/homebrew/anaconda3/envs/tf/lib/python3.9/site-packages (from tensorflow-macos==2.14.0->tensorflow) (0.2.0)\n",
      "Requirement already satisfied: h5py>=2.9.0 in /opt/homebrew/anaconda3/envs/tf/lib/python3.9/site-packages (from tensorflow-macos==2.14.0->tensorflow) (3.10.0)\n",
      "Requirement already satisfied: libclang>=13.0.0 in /opt/homebrew/anaconda3/envs/tf/lib/python3.9/site-packages (from tensorflow-macos==2.14.0->tensorflow) (16.0.6)\n",
      "Requirement already satisfied: ml-dtypes==0.2.0 in /opt/homebrew/anaconda3/envs/tf/lib/python3.9/site-packages (from tensorflow-macos==2.14.0->tensorflow) (0.2.0)\n",
      "Requirement already satisfied: opt-einsum>=2.3.2 in /opt/homebrew/anaconda3/envs/tf/lib/python3.9/site-packages (from tensorflow-macos==2.14.0->tensorflow) (3.3.0)\n",
      "Requirement already satisfied: termcolor>=1.1.0 in /opt/homebrew/anaconda3/envs/tf/lib/python3.9/site-packages (from tensorflow-macos==2.14.0->tensorflow) (2.3.0)\n",
      "Requirement already satisfied: typing-extensions>=3.6.6 in /opt/homebrew/anaconda3/envs/tf/lib/python3.9/site-packages (from tensorflow-macos==2.14.0->tensorflow) (4.8.0)\n",
      "Requirement already satisfied: wrapt<1.15,>=1.11.0 in /opt/homebrew/anaconda3/envs/tf/lib/python3.9/site-packages (from tensorflow-macos==2.14.0->tensorflow) (1.14.1)\n",
      "Requirement already satisfied: tensorflow-io-gcs-filesystem>=0.23.1 in /opt/homebrew/anaconda3/envs/tf/lib/python3.9/site-packages (from tensorflow-macos==2.14.0->tensorflow) (0.34.0)\n",
      "Requirement already satisfied: tensorflow-estimator<2.15,>=2.14.0 in /opt/homebrew/anaconda3/envs/tf/lib/python3.9/site-packages (from tensorflow-macos==2.14.0->tensorflow) (2.14.0)\n",
      "Requirement already satisfied: keras<2.15,>=2.14.0 in /opt/homebrew/anaconda3/envs/tf/lib/python3.9/site-packages (from tensorflow-macos==2.14.0->tensorflow) (2.14.0)\n",
      "Requirement already satisfied: comm>=0.1.3 in /opt/homebrew/anaconda3/envs/tf/lib/python3.9/site-packages (from ipywidgets) (0.1.4)\n",
      "Requirement already satisfied: ipython>=6.1.0 in /opt/homebrew/anaconda3/envs/tf/lib/python3.9/site-packages (from ipywidgets) (8.16.1)\n",
      "Requirement already satisfied: traitlets>=4.3.1 in /opt/homebrew/anaconda3/envs/tf/lib/python3.9/site-packages (from ipywidgets) (5.11.2)\n",
      "Requirement already satisfied: widgetsnbextension~=4.0.9 in /opt/homebrew/anaconda3/envs/tf/lib/python3.9/site-packages (from ipywidgets) (4.0.9)\n",
      "Requirement already satisfied: jupyterlab-widgets~=3.0.9 in /opt/homebrew/anaconda3/envs/tf/lib/python3.9/site-packages (from ipywidgets) (3.0.9)\n",
      "Requirement already satisfied: array-record in /opt/homebrew/anaconda3/envs/tf/lib/python3.9/site-packages (from tensorflow-datasets) (0.4.1)\n",
      "Requirement already satisfied: click in /opt/homebrew/anaconda3/envs/tf/lib/python3.9/site-packages (from tensorflow-datasets) (8.1.7)\n",
      "Requirement already satisfied: dm-tree in /opt/homebrew/anaconda3/envs/tf/lib/python3.9/site-packages (from tensorflow-datasets) (0.1.8)\n",
      "Requirement already satisfied: etils>=0.9.0 in /opt/homebrew/anaconda3/envs/tf/lib/python3.9/site-packages (from etils[enp,epath,etree]>=0.9.0->tensorflow-datasets) (1.5.2)\n",
      "Requirement already satisfied: promise in /opt/homebrew/anaconda3/envs/tf/lib/python3.9/site-packages (from tensorflow-datasets) (2.3)\n",
      "Requirement already satisfied: psutil in /opt/homebrew/anaconda3/envs/tf/lib/python3.9/site-packages (from tensorflow-datasets) (5.9.5)\n",
      "Requirement already satisfied: tensorflow-metadata in /opt/homebrew/anaconda3/envs/tf/lib/python3.9/site-packages (from tensorflow-datasets) (1.14.0)\n",
      "Requirement already satisfied: toml in /opt/homebrew/anaconda3/envs/tf/lib/python3.9/site-packages (from tensorflow-datasets) (0.10.2)\n",
      "Requirement already satisfied: importlib_resources in /opt/homebrew/anaconda3/envs/tf/lib/python3.9/site-packages (from etils[enp,epath,etree]>=0.9.0->tensorflow-datasets) (6.1.0)\n",
      "Requirement already satisfied: zipp in /opt/homebrew/anaconda3/envs/tf/lib/python3.9/site-packages (from etils[enp,epath,etree]>=0.9.0->tensorflow-datasets) (3.17.0)\n",
      "Requirement already satisfied: attrs>=17.3.0 in /opt/homebrew/anaconda3/envs/tf/lib/python3.9/site-packages (from aiohttp->datasets) (23.1.0)\n",
      "Requirement already satisfied: charset-normalizer<4.0,>=2.0 in /opt/homebrew/anaconda3/envs/tf/lib/python3.9/site-packages (from aiohttp->datasets) (3.3.1)\n",
      "Requirement already satisfied: multidict<7.0,>=4.5 in /opt/homebrew/anaconda3/envs/tf/lib/python3.9/site-packages (from aiohttp->datasets) (6.0.4)\n",
      "Requirement already satisfied: async-timeout<5.0,>=4.0.0a3 in /opt/homebrew/anaconda3/envs/tf/lib/python3.9/site-packages (from aiohttp->datasets) (4.0.3)\n",
      "Requirement already satisfied: yarl<2.0,>=1.0 in /opt/homebrew/anaconda3/envs/tf/lib/python3.9/site-packages (from aiohttp->datasets) (1.9.2)\n",
      "Requirement already satisfied: frozenlist>=1.1.1 in /opt/homebrew/anaconda3/envs/tf/lib/python3.9/site-packages (from aiohttp->datasets) (1.4.0)\n",
      "Requirement already satisfied: aiosignal>=1.1.2 in /opt/homebrew/anaconda3/envs/tf/lib/python3.9/site-packages (from aiohttp->datasets) (1.3.1)\n",
      "Requirement already satisfied: cachetools<6.0,>=2.0.0 in /opt/homebrew/anaconda3/envs/tf/lib/python3.9/site-packages (from google-auth<3,>=1.6.3->tensorboard) (5.3.2)\n",
      "Requirement already satisfied: pyasn1-modules>=0.2.1 in /opt/homebrew/anaconda3/envs/tf/lib/python3.9/site-packages (from google-auth<3,>=1.6.3->tensorboard) (0.3.0)\n",
      "Requirement already satisfied: rsa<5,>=3.1.4 in /opt/homebrew/anaconda3/envs/tf/lib/python3.9/site-packages (from google-auth<3,>=1.6.3->tensorboard) (4.9)\n",
      "Requirement already satisfied: requests-oauthlib>=0.7.0 in /opt/homebrew/anaconda3/envs/tf/lib/python3.9/site-packages (from google-auth-oauthlib<1.1,>=0.5->tensorboard) (1.3.1)\n",
      "Requirement already satisfied: backcall in /opt/homebrew/anaconda3/envs/tf/lib/python3.9/site-packages (from ipython>=6.1.0->ipywidgets) (0.2.0)\n",
      "Requirement already satisfied: decorator in /opt/homebrew/anaconda3/envs/tf/lib/python3.9/site-packages (from ipython>=6.1.0->ipywidgets) (5.1.1)\n",
      "Requirement already satisfied: jedi>=0.16 in /opt/homebrew/anaconda3/envs/tf/lib/python3.9/site-packages (from ipython>=6.1.0->ipywidgets) (0.19.1)\n",
      "Requirement already satisfied: matplotlib-inline in /opt/homebrew/anaconda3/envs/tf/lib/python3.9/site-packages (from ipython>=6.1.0->ipywidgets) (0.1.6)\n",
      "Requirement already satisfied: pickleshare in /opt/homebrew/anaconda3/envs/tf/lib/python3.9/site-packages (from ipython>=6.1.0->ipywidgets) (0.7.5)\n",
      "Requirement already satisfied: prompt-toolkit!=3.0.37,<3.1.0,>=3.0.30 in /opt/homebrew/anaconda3/envs/tf/lib/python3.9/site-packages (from ipython>=6.1.0->ipywidgets) (3.0.39)\n",
      "Requirement already satisfied: pygments>=2.4.0 in /opt/homebrew/anaconda3/envs/tf/lib/python3.9/site-packages (from ipython>=6.1.0->ipywidgets) (2.16.1)\n",
      "Requirement already satisfied: stack-data in /opt/homebrew/anaconda3/envs/tf/lib/python3.9/site-packages (from ipython>=6.1.0->ipywidgets) (0.6.2)\n",
      "Requirement already satisfied: exceptiongroup in /opt/homebrew/anaconda3/envs/tf/lib/python3.9/site-packages (from ipython>=6.1.0->ipywidgets) (1.1.3)\n",
      "Requirement already satisfied: pexpect>4.3 in /opt/homebrew/anaconda3/envs/tf/lib/python3.9/site-packages (from ipython>=6.1.0->ipywidgets) (4.8.0)\n",
      "Requirement already satisfied: appnope in /opt/homebrew/anaconda3/envs/tf/lib/python3.9/site-packages (from ipython>=6.1.0->ipywidgets) (0.1.3)\n",
      "Requirement already satisfied: importlib-metadata>=4.4 in /opt/homebrew/anaconda3/envs/tf/lib/python3.9/site-packages (from markdown>=2.6.8->tensorboard) (6.8.0)\n",
      "Requirement already satisfied: idna<4,>=2.5 in /opt/homebrew/anaconda3/envs/tf/lib/python3.9/site-packages (from requests>=2.19.0->datasets) (3.4)\n",
      "Requirement already satisfied: urllib3<3,>=1.21.1 in /opt/homebrew/anaconda3/envs/tf/lib/python3.9/site-packages (from requests>=2.19.0->datasets) (2.0.7)\n",
      "Requirement already satisfied: certifi>=2017.4.17 in /opt/homebrew/anaconda3/envs/tf/lib/python3.9/site-packages (from requests>=2.19.0->datasets) (2023.7.22)\n",
      "Requirement already satisfied: MarkupSafe>=2.1.1 in /opt/homebrew/anaconda3/envs/tf/lib/python3.9/site-packages (from werkzeug>=1.0.1->tensorboard) (2.1.3)\n",
      "Requirement already satisfied: python-dateutil>=2.8.2 in /opt/homebrew/anaconda3/envs/tf/lib/python3.9/site-packages (from pandas->datasets) (2.8.2)\n",
      "Requirement already satisfied: pytz>=2020.1 in /opt/homebrew/anaconda3/envs/tf/lib/python3.9/site-packages (from pandas->datasets) (2023.3.post1)\n",
      "Requirement already satisfied: tzdata>=2022.1 in /opt/homebrew/anaconda3/envs/tf/lib/python3.9/site-packages (from pandas->datasets) (2023.3)\n",
      "Requirement already satisfied: googleapis-common-protos<2,>=1.52.0 in /opt/homebrew/anaconda3/envs/tf/lib/python3.9/site-packages (from tensorflow-metadata->tensorflow-datasets) (1.61.0)\n",
      "Requirement already satisfied: wheel<1.0,>=0.23.0 in /opt/homebrew/anaconda3/envs/tf/lib/python3.9/site-packages (from astunparse>=1.6.0->tensorflow-macos==2.14.0->tensorflow) (0.41.2)\n",
      "Requirement already satisfied: parso<0.9.0,>=0.8.3 in /opt/homebrew/anaconda3/envs/tf/lib/python3.9/site-packages (from jedi>=0.16->ipython>=6.1.0->ipywidgets) (0.8.3)\n",
      "Requirement already satisfied: ptyprocess>=0.5 in /opt/homebrew/anaconda3/envs/tf/lib/python3.9/site-packages (from pexpect>4.3->ipython>=6.1.0->ipywidgets) (0.7.0)\n",
      "Requirement already satisfied: wcwidth in /opt/homebrew/anaconda3/envs/tf/lib/python3.9/site-packages (from prompt-toolkit!=3.0.37,<3.1.0,>=3.0.30->ipython>=6.1.0->ipywidgets) (0.2.8)\n",
      "Requirement already satisfied: pyasn1<0.6.0,>=0.4.6 in /opt/homebrew/anaconda3/envs/tf/lib/python3.9/site-packages (from pyasn1-modules>=0.2.1->google-auth<3,>=1.6.3->tensorboard) (0.5.0)\n",
      "Requirement already satisfied: oauthlib>=3.0.0 in /opt/homebrew/anaconda3/envs/tf/lib/python3.9/site-packages (from requests-oauthlib>=0.7.0->google-auth-oauthlib<1.1,>=0.5->tensorboard) (3.2.2)\n",
      "Requirement already satisfied: executing>=1.2.0 in /opt/homebrew/anaconda3/envs/tf/lib/python3.9/site-packages (from stack-data->ipython>=6.1.0->ipywidgets) (1.2.0)\n",
      "Requirement already satisfied: asttokens>=2.1.0 in /opt/homebrew/anaconda3/envs/tf/lib/python3.9/site-packages (from stack-data->ipython>=6.1.0->ipywidgets) (2.4.0)\n",
      "Requirement already satisfied: pure-eval in /opt/homebrew/anaconda3/envs/tf/lib/python3.9/site-packages (from stack-data->ipython>=6.1.0->ipywidgets) (0.2.2)\n",
      "git-lfs/3.4.0 (GitHub; darwin arm64; go 1.20.6)\n"
     ]
    }
   ],
   "source": [
    "!python -m pip install datasets transformers tensorboard tensorflow ipywidgets opencv-python tensorflow-datasets\n",
    "!git-lfs --version"
   ]
  },
  {
   "cell_type": "markdown",
   "metadata": {},
   "source": [
    "Login to huggingface if first time"
   ]
  },
  {
   "cell_type": "code",
   "execution_count": 2,
   "metadata": {},
   "outputs": [
    {
     "data": {
      "application/vnd.jupyter.widget-view+json": {
       "model_id": "73971dc964e842baa8cdcc490a4af22a",
       "version_major": 2,
       "version_minor": 0
      },
      "text/plain": [
       "VBox(children=(HTML(value='<center> <img\\nsrc=https://huggingface.co/front/assets/huggingface_logo-noborder.sv…"
      ]
     },
     "metadata": {},
     "output_type": "display_data"
    }
   ],
   "source": [
    "from huggingface_hub import notebook_login\n",
    "\n",
    "notebook_login()\n"
   ]
  },
  {
   "cell_type": "markdown",
   "metadata": {},
   "source": [
    "Show that the GPU is being used"
   ]
  },
  {
   "cell_type": "code",
   "execution_count": 74,
   "metadata": {},
   "outputs": [
    {
     "name": "stdout",
     "output_type": "stream",
     "text": [
      "[PhysicalDevice(name='/physical_device:GPU:0', device_type='GPU')]\n"
     ]
    }
   ],
   "source": [
    "from tensorflow.config.experimental import list_physical_devices\n",
    "print(list_physical_devices('GPU'))\n",
    "\n",
    "model_id = \"google/vit-base-patch16-224-in21k\""
   ]
  },
  {
   "cell_type": "markdown",
   "metadata": {},
   "source": [
    "Now create the database, also this is the time to define data augmentation"
   ]
  },
  {
   "cell_type": "code",
   "execution_count": 75,
   "metadata": {},
   "outputs": [
    {
     "name": "stderr",
     "output_type": "stream",
     "text": [
      "loading configuration file preprocessor_config.json from cache at /Users/au724747/.cache/huggingface/hub/models--google--vit-base-patch16-224-in21k/snapshots/7cbdb7ee3a6bcdf99dae654893f66519c480a0f8/preprocessor_config.json\n",
      "size should be a dictionary on of the following set of keys: ({'height', 'width'}, {'shortest_edge'}, {'shortest_edge', 'longest_edge'}, {'longest_edge'}), got 224. Converted to {'height': 224, 'width': 224}.\n",
      "Image processor ViTImageProcessor {\n",
      "  \"do_normalize\": true,\n",
      "  \"do_rescale\": true,\n",
      "  \"do_resize\": true,\n",
      "  \"image_mean\": [\n",
      "    0.5,\n",
      "    0.5,\n",
      "    0.5\n",
      "  ],\n",
      "  \"image_processor_type\": \"ViTImageProcessor\",\n",
      "  \"image_std\": [\n",
      "    0.5,\n",
      "    0.5,\n",
      "    0.5\n",
      "  ],\n",
      "  \"resample\": 2,\n",
      "  \"rescale_factor\": 0.00392156862745098,\n",
      "  \"size\": {\n",
      "    \"height\": 224,\n",
      "    \"width\": 224\n",
      "  }\n",
      "}\n",
      "\n"
     ]
    },
    {
     "data": {
      "application/vnd.jupyter.widget-view+json": {
       "model_id": "9d9cf4b4d7c24d3f8fcbb98ea09f59a9",
       "version_major": 2,
       "version_minor": 0
      },
      "text/plain": [
       "Resolving data files:   0%|          | 0/42570 [00:00<?, ?it/s]"
      ]
     },
     "metadata": {},
     "output_type": "display_data"
    }
   ],
   "source": [
    "from transformers import ViTImageProcessor\n",
    "from datasets import load_dataset\n",
    "\n",
    "image_processor = ViTImageProcessor.from_pretrained(model_id)\n",
    "def transform(batch):\n",
    "    inputs = image_processor([x for x in batch[\"image\"]], return_tensors=\"tf\")\n",
    "    inputs[\"labels\"] = batch[\"label\"]\n",
    "    return inputs\n",
    "\n",
    "dataset = load_dataset(\"streetview_images_cropped\", data_dir=\"./\")\n",
    "dataset = dataset.with_transform(transform)"
   ]
  },
  {
   "cell_type": "markdown",
   "metadata": {},
   "source": [
    "Separate test dataset"
   ]
  },
  {
   "cell_type": "code",
   "execution_count": 76,
   "metadata": {},
   "outputs": [
    {
     "data": {
      "text/plain": [
       "DatasetDict({\n",
       "    train: Dataset({\n",
       "        features: ['image', 'label'],\n",
       "        num_rows: 36184\n",
       "    })\n",
       "    test: Dataset({\n",
       "        features: ['image', 'label'],\n",
       "        num_rows: 6386\n",
       "    })\n",
       "})"
      ]
     },
     "execution_count": 76,
     "metadata": {},
     "output_type": "execute_result"
    }
   ],
   "source": [
    "# test size will be 15% of train dataset\n",
    "test_size=.15\n",
    "\n",
    "processed_dataset = dataset['train'].shuffle().train_test_split(test_size=test_size)\n",
    "processed_dataset"
   ]
  },
  {
   "cell_type": "markdown",
   "metadata": {},
   "source": [
    "Specify hyperparameters"
   ]
  },
  {
   "cell_type": "code",
   "execution_count": 77,
   "metadata": {},
   "outputs": [],
   "source": [
    "from huggingface_hub import HfFolder\n",
    "import tensorflow as tf\n",
    "\n",
    "class_labels = processed_dataset['train'].features[\"label\"].names\n",
    "num_images_train = processed_dataset['train'].num_rows\n",
    "id2label = {str(i): label for i, label in enumerate(class_labels)}\n",
    "label2id = {v: k for k, v in id2label.items()}\n",
    "\n",
    "num_train_epochs = 20\n",
    "train_batch_size = 32\n",
    "eval_batch_size = 32\n",
    "learning_rate = 6e-5\n",
    "weight_decay_rate=0.01\n",
    "num_warmup_steps=0\n",
    "output_dir=model_id.split(\"/\")[1]\n",
    "hub_token = HfFolder.get_token()\n",
    "hub_model_id = f'dl-au-tamas-jedrek/{model_id.split(\"/\")[1]}-street-view'\n"
   ]
  },
  {
   "cell_type": "code",
   "execution_count": 78,
   "metadata": {},
   "outputs": [
    {
     "data": {
      "text/plain": [
       "array([[0.        , 2.12150204, 2.10150743, ..., 1.43083091, 2.64981238,\n",
       "        1.05595098],\n",
       "       [2.12150204, 0.        , 0.0631969 , ..., 0.7217327 , 2.86360224,\n",
       "        2.20667979],\n",
       "       [2.10150743, 0.0631969 , 0.        , ..., 0.68933549, 2.90697122,\n",
       "        2.21733372],\n",
       "       ...,\n",
       "       [1.43083091, 0.7217327 , 0.68933549, ..., 0.        , 2.77736714,\n",
       "        1.73784865],\n",
       "       [2.64981238, 2.86360224, 2.90697122, ..., 2.77736714, 0.        ,\n",
       "        1.60919535],\n",
       "       [1.05595098, 2.20667979, 2.21733372, ..., 1.73784865, 1.60919535,\n",
       "        0.        ]])"
      ]
     },
     "execution_count": 78,
     "metadata": {},
     "output_type": "execute_result"
    }
   ],
   "source": [
    "import json\n",
    "\n",
    "with open(\"data/distances.json\", \"r\") as infile:\n",
    "    distances = json.load(infile)\n",
    "\n",
    "#make matrix with label2id\n",
    "import numpy as np\n",
    "mat_distances = np.zeros((len(label2id), len(label2id)))\n",
    "for key in distances.keys():\n",
    "    for key2 in distances[key].keys():\n",
    "        mat_distances[int(label2id[key])][int(label2id[key2])] = distances[key][key2]\n",
    "mat_distances"
   ]
  },
  {
   "cell_type": "markdown",
   "metadata": {},
   "source": [
    "Get model, specify loss and metrics"
   ]
  },
  {
   "cell_type": "code",
   "execution_count": 79,
   "metadata": {},
   "outputs": [
    {
     "name": "stderr",
     "output_type": "stream",
     "text": [
      "loading configuration file config.json from cache at /Users/au724747/.cache/huggingface/hub/models--google--vit-base-patch16-224-in21k/snapshots/7cbdb7ee3a6bcdf99dae654893f66519c480a0f8/config.json\n",
      "Model config ViTConfig {\n",
      "  \"_name_or_path\": \"google/vit-base-patch16-224-in21k\",\n",
      "  \"architectures\": [\n",
      "    \"ViTModel\"\n",
      "  ],\n",
      "  \"attention_probs_dropout_prob\": 0.0,\n",
      "  \"encoder_stride\": 16,\n",
      "  \"hidden_act\": \"gelu\",\n",
      "  \"hidden_dropout_prob\": 0.0,\n",
      "  \"hidden_size\": 768,\n",
      "  \"id2label\": {\n",
      "    \"0\": \"Aabenraa Kommune\",\n",
      "    \"1\": \"Aalborg Kommune000\",\n",
      "    \"10\": \"Aarhus Kommune10001\",\n",
      "    \"100\": \"Roskilde Kommune\",\n",
      "    \"101\": \"Rudersdal Kommune\",\n",
      "    \"102\": \"R\\u00f8dovre Kommune\",\n",
      "    \"103\": \"Sams\\u00f8 Kommune\",\n",
      "    \"104\": \"Silkeborg Kommune0\",\n",
      "    \"105\": \"Silkeborg Kommune1\",\n",
      "    \"106\": \"Skanderborg Kommune\",\n",
      "    \"107\": \"Skive Kommune\",\n",
      "    \"108\": \"Slagelse Kommune\",\n",
      "    \"109\": \"Solr\\u00f8d Kommune\",\n",
      "    \"11\": \"Aarhus Kommune1001\",\n",
      "    \"110\": \"Sor\\u00f8 Kommune\",\n",
      "    \"111\": \"Stevns Kommune\",\n",
      "    \"112\": \"Struer Kommune\",\n",
      "    \"113\": \"Svendborg Kommune\",\n",
      "    \"114\": \"Syddjurs Kommune\",\n",
      "    \"115\": \"S\\u00f8nderborg Kommune\",\n",
      "    \"116\": \"Thisted Kommune\",\n",
      "    \"117\": \"T\\u00e5rnby Kommune\",\n",
      "    \"118\": \"T\\u00f8nder Kommune\",\n",
      "    \"119\": \"Vallensb\\u00e6k Kommune\",\n",
      "    \"12\": \"Aarhus Kommune101\",\n",
      "    \"120\": \"Varde Kommune\",\n",
      "    \"121\": \"Vejen Kommune\",\n",
      "    \"122\": \"Vejle Kommune0\",\n",
      "    \"123\": \"Vejle Kommune1\",\n",
      "    \"124\": \"Vesthimmerlands Kommune\",\n",
      "    \"125\": \"Viborg Kommune0\",\n",
      "    \"126\": \"Viborg Kommune1\",\n",
      "    \"127\": \"Vordingborg Kommune\",\n",
      "    \"128\": \"\\u00c6r\\u00f8 Kommune\",\n",
      "    \"13\": \"Aarhus Kommune11\",\n",
      "    \"14\": \"Albertslund Kommune\",\n",
      "    \"15\": \"Aller\\u00f8d Kommune\",\n",
      "    \"16\": \"Assens Kommune\",\n",
      "    \"17\": \"Ballerup Kommune0\",\n",
      "    \"18\": \"Ballerup Kommune1\",\n",
      "    \"19\": \"Billund Kommune\",\n",
      "    \"2\": \"Aalborg Kommune00100\",\n",
      "    \"20\": \"Bornholms Regionskommune\",\n",
      "    \"21\": \"Br\\u00f8ndby Kommune\",\n",
      "    \"22\": \"Br\\u00f8nderslev Kommune\",\n",
      "    \"23\": \"Drag\\u00f8r Kommune\",\n",
      "    \"24\": \"Egedal Kommune\",\n",
      "    \"25\": \"Esbjerg Kommune0\",\n",
      "    \"26\": \"Esbjerg Kommune1\",\n",
      "    \"27\": \"Faaborg-Midtfyn Kommune\",\n",
      "    \"28\": \"Fan\\u00f8 Kommune\",\n",
      "    \"29\": \"Favrskov Kommune\",\n",
      "    \"3\": \"Aalborg Kommune00101\",\n",
      "    \"30\": \"Faxe Kommune\",\n",
      "    \"31\": \"Fredensborg Kommune\",\n",
      "    \"32\": \"Fredericia Kommune\",\n",
      "    \"33\": \"Frederiksberg Kommune\",\n",
      "    \"34\": \"Frederikshavn Kommune\",\n",
      "    \"35\": \"Frederikssund Kommune\",\n",
      "    \"36\": \"Fures\\u00f8 Kommune\",\n",
      "    \"37\": \"Gentofte Kommune\",\n",
      "    \"38\": \"Gladsaxe Kommune\",\n",
      "    \"39\": \"Glostrup Kommune\",\n",
      "    \"4\": \"Aalborg Kommune0011\",\n",
      "    \"40\": \"Greve Kommune\",\n",
      "    \"41\": \"Gribskov Kommune\",\n",
      "    \"42\": \"Guldborgsund Kommune\",\n",
      "    \"43\": \"Haderslev Kommune\",\n",
      "    \"44\": \"Halsn\\u00e6s Kommune\",\n",
      "    \"45\": \"Hedensted Kommune\",\n",
      "    \"46\": \"Helsing\\u00f8r Kommune\",\n",
      "    \"47\": \"Herning Kommune\",\n",
      "    \"48\": \"Hiller\\u00f8d Kommune\",\n",
      "    \"49\": \"Hj\\u00f8rring Kommune0\",\n",
      "    \"5\": \"Aalborg Kommune01\",\n",
      "    \"50\": \"Hj\\u00f8rring Kommune1\",\n",
      "    \"51\": \"Holb\\u00e6k Kommune\",\n",
      "    \"52\": \"Holstebro Kommune\",\n",
      "    \"53\": \"Horsens Kommune\",\n",
      "    \"54\": \"Hvidovre Kommune\",\n",
      "    \"55\": \"H\\u00f8je-Taastrup Kommune\",\n",
      "    \"56\": \"H\\u00f8rsholm Kommune\",\n",
      "    \"57\": \"Ikast-Brande Kommune\",\n",
      "    \"58\": \"Ish\\u00f8j Kommune\",\n",
      "    \"59\": \"Jammerbugt Kommune\",\n",
      "    \"6\": \"Aalborg Kommune1\",\n",
      "    \"60\": \"Kalundborg Kommune\",\n",
      "    \"61\": \"Kerteminde Kommune\",\n",
      "    \"62\": \"Kolding Kommune0\",\n",
      "    \"63\": \"Kolding Kommune1\",\n",
      "    \"64\": \"K\\u00f8benhavns Kommune0000\",\n",
      "    \"65\": \"K\\u00f8benhavns Kommune0001\",\n",
      "    \"66\": \"K\\u00f8benhavns Kommune0010\",\n",
      "    \"67\": \"K\\u00f8benhavns Kommune0011\",\n",
      "    \"68\": \"K\\u00f8benhavns Kommune010\",\n",
      "    \"69\": \"K\\u00f8benhavns Kommune011\",\n",
      "    \"7\": \"Aarhus Kommune00\",\n",
      "    \"70\": \"K\\u00f8benhavns Kommune100\",\n",
      "    \"71\": \"K\\u00f8benhavns Kommune1010\",\n",
      "    \"72\": \"K\\u00f8benhavns Kommune1011\",\n",
      "    \"73\": \"K\\u00f8benhavns Kommune1100\",\n",
      "    \"74\": \"K\\u00f8benhavns Kommune1101\",\n",
      "    \"75\": \"K\\u00f8benhavns Kommune111\",\n",
      "    \"76\": \"K\\u00f8ge Kommune\",\n",
      "    \"77\": \"Langeland Kommune\",\n",
      "    \"78\": \"Lejre Kommune\",\n",
      "    \"79\": \"Lemvig Kommune\",\n",
      "    \"8\": \"Aarhus Kommune01\",\n",
      "    \"80\": \"Lolland Kommune\",\n",
      "    \"81\": \"Lyngby-Taarb\\u00e6k Kommune\",\n",
      "    \"82\": \"L\\u00e6s\\u00f8 Kommune\",\n",
      "    \"83\": \"Mariagerfjord Kommune\",\n",
      "    \"84\": \"Middelfart Kommune\",\n",
      "    \"85\": \"Mors\\u00f8 Kommune\",\n",
      "    \"86\": \"Norddjurs Kommune\",\n",
      "    \"87\": \"Nordfyns Kommune\",\n",
      "    \"88\": \"Nyborg Kommune\",\n",
      "    \"89\": \"N\\u00e6stved Kommune\",\n",
      "    \"9\": \"Aarhus Kommune10000\",\n",
      "    \"90\": \"Odder Kommune\",\n",
      "    \"91\": \"Odense Kommune0\",\n",
      "    \"92\": \"Odense Kommune10\",\n",
      "    \"93\": \"Odense Kommune11\",\n",
      "    \"94\": \"Odsherred Kommune\",\n",
      "    \"95\": \"Randers Kommune0\",\n",
      "    \"96\": \"Randers Kommune1\",\n",
      "    \"97\": \"Rebild Kommune\",\n",
      "    \"98\": \"Ringk\\u00f8bing-Skjern Kommune\",\n",
      "    \"99\": \"Ringsted Kommune\"\n",
      "  },\n",
      "  \"image_size\": 224,\n",
      "  \"initializer_range\": 0.02,\n",
      "  \"intermediate_size\": 3072,\n",
      "  \"label2id\": {\n",
      "    \"Aabenraa Kommune\": \"0\",\n",
      "    \"Aalborg Kommune000\": \"1\",\n",
      "    \"Aalborg Kommune00100\": \"2\",\n",
      "    \"Aalborg Kommune00101\": \"3\",\n",
      "    \"Aalborg Kommune0011\": \"4\",\n",
      "    \"Aalborg Kommune01\": \"5\",\n",
      "    \"Aalborg Kommune1\": \"6\",\n",
      "    \"Aarhus Kommune00\": \"7\",\n",
      "    \"Aarhus Kommune01\": \"8\",\n",
      "    \"Aarhus Kommune10000\": \"9\",\n",
      "    \"Aarhus Kommune10001\": \"10\",\n",
      "    \"Aarhus Kommune1001\": \"11\",\n",
      "    \"Aarhus Kommune101\": \"12\",\n",
      "    \"Aarhus Kommune11\": \"13\",\n",
      "    \"Albertslund Kommune\": \"14\",\n",
      "    \"Aller\\u00f8d Kommune\": \"15\",\n",
      "    \"Assens Kommune\": \"16\",\n",
      "    \"Ballerup Kommune0\": \"17\",\n",
      "    \"Ballerup Kommune1\": \"18\",\n",
      "    \"Billund Kommune\": \"19\",\n",
      "    \"Bornholms Regionskommune\": \"20\",\n",
      "    \"Br\\u00f8ndby Kommune\": \"21\",\n",
      "    \"Br\\u00f8nderslev Kommune\": \"22\",\n",
      "    \"Drag\\u00f8r Kommune\": \"23\",\n",
      "    \"Egedal Kommune\": \"24\",\n",
      "    \"Esbjerg Kommune0\": \"25\",\n",
      "    \"Esbjerg Kommune1\": \"26\",\n",
      "    \"Faaborg-Midtfyn Kommune\": \"27\",\n",
      "    \"Fan\\u00f8 Kommune\": \"28\",\n",
      "    \"Favrskov Kommune\": \"29\",\n",
      "    \"Faxe Kommune\": \"30\",\n",
      "    \"Fredensborg Kommune\": \"31\",\n",
      "    \"Fredericia Kommune\": \"32\",\n",
      "    \"Frederiksberg Kommune\": \"33\",\n",
      "    \"Frederikshavn Kommune\": \"34\",\n",
      "    \"Frederikssund Kommune\": \"35\",\n",
      "    \"Fures\\u00f8 Kommune\": \"36\",\n",
      "    \"Gentofte Kommune\": \"37\",\n",
      "    \"Gladsaxe Kommune\": \"38\",\n",
      "    \"Glostrup Kommune\": \"39\",\n",
      "    \"Greve Kommune\": \"40\",\n",
      "    \"Gribskov Kommune\": \"41\",\n",
      "    \"Guldborgsund Kommune\": \"42\",\n",
      "    \"Haderslev Kommune\": \"43\",\n",
      "    \"Halsn\\u00e6s Kommune\": \"44\",\n",
      "    \"Hedensted Kommune\": \"45\",\n",
      "    \"Helsing\\u00f8r Kommune\": \"46\",\n",
      "    \"Herning Kommune\": \"47\",\n",
      "    \"Hiller\\u00f8d Kommune\": \"48\",\n",
      "    \"Hj\\u00f8rring Kommune0\": \"49\",\n",
      "    \"Hj\\u00f8rring Kommune1\": \"50\",\n",
      "    \"Holb\\u00e6k Kommune\": \"51\",\n",
      "    \"Holstebro Kommune\": \"52\",\n",
      "    \"Horsens Kommune\": \"53\",\n",
      "    \"Hvidovre Kommune\": \"54\",\n",
      "    \"H\\u00f8je-Taastrup Kommune\": \"55\",\n",
      "    \"H\\u00f8rsholm Kommune\": \"56\",\n",
      "    \"Ikast-Brande Kommune\": \"57\",\n",
      "    \"Ish\\u00f8j Kommune\": \"58\",\n",
      "    \"Jammerbugt Kommune\": \"59\",\n",
      "    \"Kalundborg Kommune\": \"60\",\n",
      "    \"Kerteminde Kommune\": \"61\",\n",
      "    \"Kolding Kommune0\": \"62\",\n",
      "    \"Kolding Kommune1\": \"63\",\n",
      "    \"K\\u00f8benhavns Kommune0000\": \"64\",\n",
      "    \"K\\u00f8benhavns Kommune0001\": \"65\",\n",
      "    \"K\\u00f8benhavns Kommune0010\": \"66\",\n",
      "    \"K\\u00f8benhavns Kommune0011\": \"67\",\n",
      "    \"K\\u00f8benhavns Kommune010\": \"68\",\n",
      "    \"K\\u00f8benhavns Kommune011\": \"69\",\n",
      "    \"K\\u00f8benhavns Kommune100\": \"70\",\n",
      "    \"K\\u00f8benhavns Kommune1010\": \"71\",\n",
      "    \"K\\u00f8benhavns Kommune1011\": \"72\",\n",
      "    \"K\\u00f8benhavns Kommune1100\": \"73\",\n",
      "    \"K\\u00f8benhavns Kommune1101\": \"74\",\n",
      "    \"K\\u00f8benhavns Kommune111\": \"75\",\n",
      "    \"K\\u00f8ge Kommune\": \"76\",\n",
      "    \"Langeland Kommune\": \"77\",\n",
      "    \"Lejre Kommune\": \"78\",\n",
      "    \"Lemvig Kommune\": \"79\",\n",
      "    \"Lolland Kommune\": \"80\",\n",
      "    \"Lyngby-Taarb\\u00e6k Kommune\": \"81\",\n",
      "    \"L\\u00e6s\\u00f8 Kommune\": \"82\",\n",
      "    \"Mariagerfjord Kommune\": \"83\",\n",
      "    \"Middelfart Kommune\": \"84\",\n",
      "    \"Mors\\u00f8 Kommune\": \"85\",\n",
      "    \"Norddjurs Kommune\": \"86\",\n",
      "    \"Nordfyns Kommune\": \"87\",\n",
      "    \"Nyborg Kommune\": \"88\",\n",
      "    \"N\\u00e6stved Kommune\": \"89\",\n",
      "    \"Odder Kommune\": \"90\",\n",
      "    \"Odense Kommune0\": \"91\",\n",
      "    \"Odense Kommune10\": \"92\",\n",
      "    \"Odense Kommune11\": \"93\",\n",
      "    \"Odsherred Kommune\": \"94\",\n",
      "    \"Randers Kommune0\": \"95\",\n",
      "    \"Randers Kommune1\": \"96\",\n",
      "    \"Rebild Kommune\": \"97\",\n",
      "    \"Ringk\\u00f8bing-Skjern Kommune\": \"98\",\n",
      "    \"Ringsted Kommune\": \"99\",\n",
      "    \"Roskilde Kommune\": \"100\",\n",
      "    \"Rudersdal Kommune\": \"101\",\n",
      "    \"R\\u00f8dovre Kommune\": \"102\",\n",
      "    \"Sams\\u00f8 Kommune\": \"103\",\n",
      "    \"Silkeborg Kommune0\": \"104\",\n",
      "    \"Silkeborg Kommune1\": \"105\",\n",
      "    \"Skanderborg Kommune\": \"106\",\n",
      "    \"Skive Kommune\": \"107\",\n",
      "    \"Slagelse Kommune\": \"108\",\n",
      "    \"Solr\\u00f8d Kommune\": \"109\",\n",
      "    \"Sor\\u00f8 Kommune\": \"110\",\n",
      "    \"Stevns Kommune\": \"111\",\n",
      "    \"Struer Kommune\": \"112\",\n",
      "    \"Svendborg Kommune\": \"113\",\n",
      "    \"Syddjurs Kommune\": \"114\",\n",
      "    \"S\\u00f8nderborg Kommune\": \"115\",\n",
      "    \"Thisted Kommune\": \"116\",\n",
      "    \"T\\u00e5rnby Kommune\": \"117\",\n",
      "    \"T\\u00f8nder Kommune\": \"118\",\n",
      "    \"Vallensb\\u00e6k Kommune\": \"119\",\n",
      "    \"Varde Kommune\": \"120\",\n",
      "    \"Vejen Kommune\": \"121\",\n",
      "    \"Vejle Kommune0\": \"122\",\n",
      "    \"Vejle Kommune1\": \"123\",\n",
      "    \"Vesthimmerlands Kommune\": \"124\",\n",
      "    \"Viborg Kommune0\": \"125\",\n",
      "    \"Viborg Kommune1\": \"126\",\n",
      "    \"Vordingborg Kommune\": \"127\",\n",
      "    \"\\u00c6r\\u00f8 Kommune\": \"128\"\n",
      "  },\n",
      "  \"layer_norm_eps\": 1e-12,\n",
      "  \"model_type\": \"vit\",\n",
      "  \"num_attention_heads\": 12,\n",
      "  \"num_channels\": 3,\n",
      "  \"num_hidden_layers\": 12,\n",
      "  \"patch_size\": 16,\n",
      "  \"qkv_bias\": true,\n",
      "  \"transformers_version\": \"4.34.1\"\n",
      "}\n",
      "\n",
      "loading weights file tf_model.h5 from cache at /Users/au724747/.cache/huggingface/hub/models--google--vit-base-patch16-224-in21k/snapshots/7cbdb7ee3a6bcdf99dae654893f66519c480a0f8/tf_model.h5\n",
      "Some layers from the model checkpoint at google/vit-base-patch16-224-in21k were not used when initializing TFViTForImageClassification: ['vit/pooler/dense/kernel:0', 'vit/pooler/dense/bias:0']\n",
      "- This IS expected if you are initializing TFViTForImageClassification from the checkpoint of a model trained on another task or with another architecture (e.g. initializing a BertForSequenceClassification model from a BertForPreTraining model).\n",
      "- This IS NOT expected if you are initializing TFViTForImageClassification from the checkpoint of a model that you expect to be exactly identical (initializing a BertForSequenceClassification model from a BertForSequenceClassification model).\n",
      "Some layers of TFViTForImageClassification were not initialized from the model checkpoint at google/vit-base-patch16-224-in21k and are newly initialized: ['classifier']\n",
      "You should probably TRAIN this model on a down-stream task to be able to use it for predictions and inference.\n"
     ]
    },
    {
     "name": "stdout",
     "output_type": "stream",
     "text": [
      "Model: \"tf_vi_t_for_image_classification_17\"\n",
      "_________________________________________________________________\n",
      " Layer (type)                Output Shape              Param #   \n",
      "=================================================================\n",
      " vit (TFViTMainLayer)        multiple                  85798656  \n",
      "                                                                 \n",
      " classifier (Dense)          multiple                  99201     \n",
      "                                                                 \n",
      "=================================================================\n",
      "Total params: 85897857 (327.67 MB)\n",
      "Trainable params: 85897857 (327.67 MB)\n",
      "Non-trainable params: 0 (0.00 Byte)\n",
      "_________________________________________________________________\n"
     ]
    }
   ],
   "source": [
    "from transformers import TFViTForImageClassification, create_optimizer\n",
    "import tensorflow as tf\n",
    "\n",
    "# create optimizer wight weigh decay\n",
    "num_train_steps = num_images_train * num_train_epochs\n",
    "optimizer, lr_schedule = create_optimizer(\n",
    "    init_lr=learning_rate,\n",
    "    num_train_steps=num_train_steps,\n",
    "    weight_decay_rate=weight_decay_rate,\n",
    "    num_warmup_steps=num_warmup_steps,\n",
    ")\n",
    "\n",
    "# load pre-trained ViT model\n",
    "model = TFViTForImageClassification.from_pretrained(\n",
    "    model_id,\n",
    "    num_labels=len(class_labels),\n",
    "    id2label=id2label,\n",
    "    label2id=label2id,\n",
    ")\n",
    "\n",
    "model.summary()\n",
    "\n",
    "tensor_distances = tf.convert_to_tensor(mat_distances, dtype=tf.float32)\n",
    "def customLoss(y_true, y_pred):\n",
    "    y_pred_label = tf.argmax(y_pred, axis=1)\n",
    "    y_true = tf.reshape(y_true, [-1])\n",
    "    indices = tf.stack((y_true, y_pred_label), axis=1)\n",
    "    dist = tf.gather_nd(tensor_distances, indices)\n",
    "    return tf.keras.losses.sparse_categorical_crossentropy(y_true, y_pred, from_logits=True) * dist\n",
    "# define loss\n",
    "#loss=tf.keras.losses.SparseCategoricalCrossentropy(from_logits=True)\n",
    "loss = customLoss\n",
    "\n",
    "# define metrics \n",
    "metrics=[\n",
    "    tf.keras.metrics.SparseCategoricalAccuracy(name=\"accuracy\"),\n",
    "    tf.keras.metrics.SparseTopKCategoricalAccuracy(3, name=\"top-3-accuracy\"),\n",
    "]"
   ]
  },
  {
   "cell_type": "code",
   "execution_count": 80,
   "metadata": {},
   "outputs": [],
   "source": [
    "model.vit.embeddings.trainable = True\n",
    "model.compile(optimizer=optimizer, loss=loss, metrics=metrics)"
   ]
  },
  {
   "cell_type": "markdown",
   "metadata": {},
   "source": [
    "Transform dataset for training"
   ]
  },
  {
   "cell_type": "code",
   "execution_count": 81,
   "metadata": {},
   "outputs": [],
   "source": [
    "tf_train_dataset = model.prepare_tf_dataset(processed_dataset['train'], batch_size=train_batch_size, shuffle=True)\n",
    "tf_eval_dataset = model.prepare_tf_dataset(processed_dataset['test'], batch_size=eval_batch_size, shuffle=True)"
   ]
  },
  {
   "cell_type": "markdown",
   "metadata": {},
   "source": [
    "Push metrics to hub after every epoch"
   ]
  },
  {
   "cell_type": "code",
   "execution_count": 82,
   "metadata": {},
   "outputs": [
    {
     "name": "stderr",
     "output_type": "stream",
     "text": [
      "/Users/au724747/projects/dl-geolocation-vit/vit-base-patch16-224-in21k is already a clone of https://huggingface.co/dl-au-tamas-jedrek/vit-base-patch16-224-in21k-street-view. Make sure you pull the latest changes with `repo.git_pull()`.\n"
     ]
    }
   ],
   "source": [
    "import os\n",
    "from transformers.keras_callbacks import PushToHubCallback\n",
    "from tensorflow.keras.callbacks import TensorBoard as TensorboardCallback, EarlyStopping\n",
    "\n",
    "callbacks = []\n",
    "callbacks.append(TensorboardCallback(log_dir=os.path.join(output_dir, \"logs\")))\n",
    "#callbacks.append(EarlyStopping(monitor=\"val_accuracy\",patience=1))\n",
    "callbacks.append(PushToHubCallback(\n",
    "    output_dir,\n",
    "    hub_model_id=hub_model_id,\n",
    "    hub_token=hub_token,\n",
    "))\n",
    "\n"
   ]
  },
  {
   "cell_type": "markdown",
   "metadata": {},
   "source": [
    "Train model"
   ]
  },
  {
   "cell_type": "code",
   "execution_count": 83,
   "metadata": {},
   "outputs": [
    {
     "name": "stdout",
     "output_type": "stream",
     "text": [
      "Epoch 1/20\n",
      "Tensor(\"ExpandDims:0\", shape=(32, 1), dtype=int64) Tensor(\"tf_vi_t_for_image_classification_17/classifier/BiasAdd:0\", shape=(32, 129), dtype=float32)\n",
      "Tensor(\"ExpandDims:0\", shape=(32, 1), dtype=int64) Tensor(\"tf_vi_t_for_image_classification_17/classifier/BiasAdd:0\", shape=(32, 129), dtype=float32)\n",
      "1130/1130 [==============================] - ETA: 0s - loss: 8.6199 - accuracy: 0.0611 - top-3-accuracy: 0.1287Tensor(\"ExpandDims:0\", shape=(32, 1), dtype=int64) Tensor(\"tf_vi_t_for_image_classification_17/classifier/BiasAdd:0\", shape=(32, 129), dtype=float32)\n"
     ]
    },
    {
     "name": "stderr",
     "output_type": "stream",
     "text": [
      "Configuration saved in vit-base-patch16-224-in21k/config.json\n",
      "Model weights saved in vit-base-patch16-224-in21k/tf_model.h5\n"
     ]
    },
    {
     "name": "stdout",
     "output_type": "stream",
     "text": [
      "1130/1130 [==============================] - 3398s 3s/step - loss: 8.6199 - accuracy: 0.0611 - top-3-accuracy: 0.1287 - val_loss: 7.5510 - val_accuracy: 0.0959 - val_top-3-accuracy: 0.2035\n",
      "Epoch 2/20\n",
      "1130/1130 [==============================] - ETA: 0s - loss: 6.1219 - accuracy: 0.1399 - top-3-accuracy: 0.2733"
     ]
    },
    {
     "name": "stderr",
     "output_type": "stream",
     "text": [
      "Configuration saved in vit-base-patch16-224-in21k/config.json\n",
      "Model weights saved in vit-base-patch16-224-in21k/tf_model.h5\n"
     ]
    },
    {
     "name": "stdout",
     "output_type": "stream",
     "text": [
      "1130/1130 [==============================] - 3294s 3s/step - loss: 6.1219 - accuracy: 0.1399 - top-3-accuracy: 0.2733 - val_loss: 6.0731 - val_accuracy: 0.1292 - val_top-3-accuracy: 0.2682\n",
      "Epoch 3/20\n",
      "1130/1130 [==============================] - ETA: 0s - loss: 4.5454 - accuracy: 0.2217 - top-3-accuracy: 0.3960"
     ]
    },
    {
     "name": "stderr",
     "output_type": "stream",
     "text": [
      "Configuration saved in vit-base-patch16-224-in21k/config.json\n",
      "Model weights saved in vit-base-patch16-224-in21k/tf_model.h5\n"
     ]
    },
    {
     "name": "stdout",
     "output_type": "stream",
     "text": [
      "1130/1130 [==============================] - 3288s 3s/step - loss: 4.5454 - accuracy: 0.2217 - top-3-accuracy: 0.3960 - val_loss: 5.1612 - val_accuracy: 0.1672 - val_top-3-accuracy: 0.3144\n",
      "Epoch 4/20\n",
      "1130/1130 [==============================] - ETA: 0s - loss: 3.2339 - accuracy: 0.3233 - top-3-accuracy: 0.5270"
     ]
    },
    {
     "name": "stderr",
     "output_type": "stream",
     "text": [
      "Configuration saved in vit-base-patch16-224-in21k/config.json\n",
      "Model weights saved in vit-base-patch16-224-in21k/tf_model.h5\n"
     ]
    },
    {
     "name": "stdout",
     "output_type": "stream",
     "text": [
      "1130/1130 [==============================] - 3423s 3s/step - loss: 3.2339 - accuracy: 0.3233 - top-3-accuracy: 0.5270 - val_loss: 4.6769 - val_accuracy: 0.1889 - val_top-3-accuracy: 0.3557\n",
      "Epoch 5/20\n",
      "1130/1130 [==============================] - ETA: 0s - loss: 2.1617 - accuracy: 0.4333 - top-3-accuracy: 0.6553"
     ]
    },
    {
     "name": "stderr",
     "output_type": "stream",
     "text": [
      "Configuration saved in vit-base-patch16-224-in21k/config.json\n",
      "Model weights saved in vit-base-patch16-224-in21k/tf_model.h5\n"
     ]
    },
    {
     "name": "stdout",
     "output_type": "stream",
     "text": [
      "1130/1130 [==============================] - 3298s 3s/step - loss: 2.1617 - accuracy: 0.4333 - top-3-accuracy: 0.6553 - val_loss: 4.5078 - val_accuracy: 0.1924 - val_top-3-accuracy: 0.3558\n",
      "Epoch 6/20\n",
      "1130/1130 [==============================] - ETA: 0s - loss: 1.3410 - accuracy: 0.5443 - top-3-accuracy: 0.7650"
     ]
    },
    {
     "name": "stderr",
     "output_type": "stream",
     "text": [
      "Configuration saved in vit-base-patch16-224-in21k/config.json\n",
      "Model weights saved in vit-base-patch16-224-in21k/tf_model.h5\n"
     ]
    },
    {
     "name": "stdout",
     "output_type": "stream",
     "text": [
      "1130/1130 [==============================] - 3277s 3s/step - loss: 1.3410 - accuracy: 0.5443 - top-3-accuracy: 0.7650 - val_loss: 4.4275 - val_accuracy: 0.2005 - val_top-3-accuracy: 0.3623\n",
      "Epoch 7/20\n",
      "1130/1130 [==============================] - ETA: 0s - loss: 0.9083 - accuracy: 0.6189 - top-3-accuracy: 0.8299"
     ]
    },
    {
     "name": "stderr",
     "output_type": "stream",
     "text": [
      "Configuration saved in vit-base-patch16-224-in21k/config.json\n",
      "Model weights saved in vit-base-patch16-224-in21k/tf_model.h5\n"
     ]
    },
    {
     "name": "stdout",
     "output_type": "stream",
     "text": [
      "1130/1130 [==============================] - 3275s 3s/step - loss: 0.9083 - accuracy: 0.6189 - top-3-accuracy: 0.8299 - val_loss: 4.1970 - val_accuracy: 0.2118 - val_top-3-accuracy: 0.3843\n",
      "Epoch 8/20\n",
      "1130/1130 [==============================] - ETA: 0s - loss: 0.6655 - accuracy: 0.6731 - top-3-accuracy: 0.8696"
     ]
    },
    {
     "name": "stderr",
     "output_type": "stream",
     "text": [
      "Configuration saved in vit-base-patch16-224-in21k/config.json\n",
      "Model weights saved in vit-base-patch16-224-in21k/tf_model.h5\n"
     ]
    },
    {
     "name": "stdout",
     "output_type": "stream",
     "text": [
      "1130/1130 [==============================] - 3277s 3s/step - loss: 0.6655 - accuracy: 0.6731 - top-3-accuracy: 0.8696 - val_loss: 4.4715 - val_accuracy: 0.2162 - val_top-3-accuracy: 0.3761\n",
      "Epoch 9/20\n",
      "1130/1130 [==============================] - ETA: 0s - loss: 0.5582 - accuracy: 0.7048 - top-3-accuracy: 0.8905"
     ]
    },
    {
     "name": "stderr",
     "output_type": "stream",
     "text": [
      "Configuration saved in vit-base-patch16-224-in21k/config.json\n",
      "Model weights saved in vit-base-patch16-224-in21k/tf_model.h5\n"
     ]
    },
    {
     "name": "stdout",
     "output_type": "stream",
     "text": [
      "1130/1130 [==============================] - 3276s 3s/step - loss: 0.5582 - accuracy: 0.7048 - top-3-accuracy: 0.8905 - val_loss: 4.3907 - val_accuracy: 0.2188 - val_top-3-accuracy: 0.4000\n",
      "Epoch 10/20\n",
      "1130/1130 [==============================] - ETA: 0s - loss: 0.4274 - accuracy: 0.7413 - top-3-accuracy: 0.9148"
     ]
    },
    {
     "name": "stderr",
     "output_type": "stream",
     "text": [
      "Configuration saved in vit-base-patch16-224-in21k/config.json\n",
      "Model weights saved in vit-base-patch16-224-in21k/tf_model.h5\n"
     ]
    },
    {
     "name": "stdout",
     "output_type": "stream",
     "text": [
      "1130/1130 [==============================] - 3275s 3s/step - loss: 0.4274 - accuracy: 0.7413 - top-3-accuracy: 0.9148 - val_loss: 4.3928 - val_accuracy: 0.2288 - val_top-3-accuracy: 0.3992\n",
      "Epoch 11/20\n",
      "1130/1130 [==============================] - ETA: 0s - loss: 0.3839 - accuracy: 0.7575 - top-3-accuracy: 0.9231"
     ]
    },
    {
     "name": "stderr",
     "output_type": "stream",
     "text": [
      "Configuration saved in vit-base-patch16-224-in21k/config.json\n",
      "Model weights saved in vit-base-patch16-224-in21k/tf_model.h5\n"
     ]
    },
    {
     "name": "stdout",
     "output_type": "stream",
     "text": [
      "1130/1130 [==============================] - 3274s 3s/step - loss: 0.3839 - accuracy: 0.7575 - top-3-accuracy: 0.9231 - val_loss: 4.5197 - val_accuracy: 0.2167 - val_top-3-accuracy: 0.3913\n",
      "Epoch 12/20\n",
      "1130/1130 [==============================] - ETA: 0s - loss: 0.3482 - accuracy: 0.7727 - top-3-accuracy: 0.9303"
     ]
    },
    {
     "name": "stderr",
     "output_type": "stream",
     "text": [
      "Configuration saved in vit-base-patch16-224-in21k/config.json\n",
      "Model weights saved in vit-base-patch16-224-in21k/tf_model.h5\n"
     ]
    },
    {
     "name": "stdout",
     "output_type": "stream",
     "text": [
      "1130/1130 [==============================] - 3274s 3s/step - loss: 0.3482 - accuracy: 0.7727 - top-3-accuracy: 0.9303 - val_loss: 4.3131 - val_accuracy: 0.2371 - val_top-3-accuracy: 0.4033\n",
      "Epoch 13/20\n",
      "1130/1130 [==============================] - ETA: 0s - loss: 0.3088 - accuracy: 0.7859 - top-3-accuracy: 0.9378"
     ]
    },
    {
     "name": "stderr",
     "output_type": "stream",
     "text": [
      "Configuration saved in vit-base-patch16-224-in21k/config.json\n",
      "Model weights saved in vit-base-patch16-224-in21k/tf_model.h5\n"
     ]
    },
    {
     "name": "stdout",
     "output_type": "stream",
     "text": [
      "1130/1130 [==============================] - 3274s 3s/step - loss: 0.3088 - accuracy: 0.7859 - top-3-accuracy: 0.9378 - val_loss: 4.4837 - val_accuracy: 0.2367 - val_top-3-accuracy: 0.4116\n",
      "Epoch 14/20\n",
      "1048/1130 [==========================>...] - ETA: 3:45 - loss: 0.2691 - accuracy: 0.8040 - top-3-accuracy: 0.9432"
     ]
    }
   ],
   "source": [
    "from transformers import logging as transformers_logging\n",
    "transformers_logging.set_verbosity_info()\n",
    "train_results = model.fit(\n",
    "    tf_train_dataset,\n",
    "    validation_data=tf_eval_dataset,\n",
    "    callbacks=callbacks,\n",
    "    epochs=num_train_epochs,\n",
    "    verbose=1\n",
    ")"
   ]
  }
 ],
 "metadata": {
  "instance_type": "ml.t3.medium",
  "interpreter": {
   "hash": "ec1370a512a4612a2908be3c3c8b0de1730d00dc30104daff827065aeaf438b7"
  },
  "kernelspec": {
   "display_name": "Python 3 (ipykernel)",
   "language": "python",
   "name": "python3"
  },
  "language_info": {
   "codemirror_mode": {
    "name": "ipython",
    "version": 3
   },
   "file_extension": ".py",
   "mimetype": "text/x-python",
   "name": "python",
   "nbconvert_exporter": "python",
   "pygments_lexer": "ipython3",
   "version": "3.9.18"
  }
 },
 "nbformat": 4,
 "nbformat_minor": 4
}
