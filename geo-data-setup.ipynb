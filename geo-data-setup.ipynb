{
 "cells": [
  {
   "cell_type": "markdown",
   "metadata": {},
   "source": [
    "<h2>The dataset for locating and classifying images is the following</h2>\n",
    "<a href=\"https://osm-boundaries.com\">administrative shapefiles: https://osm-boundaries.com</a> => denmark-adm7.geojson <br/>\n",
    "<a href=\"https://batch.openaddresses.io/\">addresses: https://batch.openaddresses.io/</a> => denmark-addresses.geojson <br/>\n",
    "<p>After downloading shapefiles, if they are in separate files, combine them.</p>"
   ]
  },
  {
   "cell_type": "code",
   "execution_count": 1,
   "metadata": {},
   "outputs": [
    {
     "name": "stdout",
     "output_type": "stream",
     "text": [
      "Requirement already satisfied: turfpy in /opt/homebrew/anaconda3/envs/tf/lib/python3.9/site-packages (0.0.7)\n",
      "Requirement already satisfied: geojson in /opt/homebrew/anaconda3/envs/tf/lib/python3.9/site-packages (3.0.1)\n",
      "Requirement already satisfied: ndjson in /opt/homebrew/anaconda3/envs/tf/lib/python3.9/site-packages (0.3.1)\n",
      "Requirement already satisfied: matplotlib in /opt/homebrew/anaconda3/envs/tf/lib/python3.9/site-packages (3.8.0)\n",
      "Requirement already satisfied: pandas in /opt/homebrew/anaconda3/envs/tf/lib/python3.9/site-packages (2.1.1)\n",
      "Requirement already satisfied: shapely in /opt/homebrew/anaconda3/envs/tf/lib/python3.9/site-packages (from turfpy) (2.0.2)\n",
      "Requirement already satisfied: scipy in /opt/homebrew/anaconda3/envs/tf/lib/python3.9/site-packages (from turfpy) (1.11.3)\n",
      "Requirement already satisfied: numpy in /opt/homebrew/anaconda3/envs/tf/lib/python3.9/site-packages (from turfpy) (1.26.1)\n",
      "Requirement already satisfied: contourpy>=1.0.1 in /opt/homebrew/anaconda3/envs/tf/lib/python3.9/site-packages (from matplotlib) (1.1.1)\n",
      "Requirement already satisfied: cycler>=0.10 in /opt/homebrew/anaconda3/envs/tf/lib/python3.9/site-packages (from matplotlib) (0.12.1)\n",
      "Requirement already satisfied: fonttools>=4.22.0 in /opt/homebrew/anaconda3/envs/tf/lib/python3.9/site-packages (from matplotlib) (4.43.1)\n",
      "Requirement already satisfied: kiwisolver>=1.0.1 in /opt/homebrew/anaconda3/envs/tf/lib/python3.9/site-packages (from matplotlib) (1.4.5)\n",
      "Requirement already satisfied: packaging>=20.0 in /opt/homebrew/anaconda3/envs/tf/lib/python3.9/site-packages (from matplotlib) (23.2)\n",
      "Requirement already satisfied: pillow>=6.2.0 in /opt/homebrew/anaconda3/envs/tf/lib/python3.9/site-packages (from matplotlib) (10.1.0)\n",
      "Requirement already satisfied: pyparsing>=2.3.1 in /opt/homebrew/anaconda3/envs/tf/lib/python3.9/site-packages (from matplotlib) (3.1.1)\n",
      "Requirement already satisfied: python-dateutil>=2.7 in /opt/homebrew/anaconda3/envs/tf/lib/python3.9/site-packages (from matplotlib) (2.8.2)\n",
      "Requirement already satisfied: importlib-resources>=3.2.0 in /opt/homebrew/anaconda3/envs/tf/lib/python3.9/site-packages (from matplotlib) (6.1.0)\n",
      "Requirement already satisfied: pytz>=2020.1 in /opt/homebrew/anaconda3/envs/tf/lib/python3.9/site-packages (from pandas) (2023.3.post1)\n",
      "Requirement already satisfied: tzdata>=2022.1 in /opt/homebrew/anaconda3/envs/tf/lib/python3.9/site-packages (from pandas) (2023.3)\n",
      "Requirement already satisfied: zipp>=3.1.0 in /opt/homebrew/anaconda3/envs/tf/lib/python3.9/site-packages (from importlib-resources>=3.2.0->matplotlib) (3.17.0)\n",
      "Requirement already satisfied: six>=1.5 in /opt/homebrew/anaconda3/envs/tf/lib/python3.9/site-packages (from python-dateutil>=2.7->matplotlib) (1.16.0)\n"
     ]
    }
   ],
   "source": [
    "!python -m pip install turfpy geojson ndjson matplotlib pandas"
   ]
  },
  {
   "cell_type": "markdown",
   "metadata": {},
   "source": [
    "<p>Now we will load in all shapes and points</p>"
   ]
  },
  {
   "cell_type": "code",
   "execution_count": 2,
   "metadata": {},
   "outputs": [
    {
     "data": {
      "text/plain": [
       "{'type': 'Feature',\n",
       " 'properties': {'hash': '0f3454edb3ac7a1d',\n",
       "  'number': '26',\n",
       "  'street': 'Skolebakken',\n",
       "  'unit': '',\n",
       "  'city': 'Grenaa',\n",
       "  'district': '',\n",
       "  'region': 'Region Midtjylland',\n",
       "  'postcode': '8500',\n",
       "  'id': ''},\n",
       " 'geometry': {'type': 'Point', 'coordinates': [10.9036344, 56.4149512]}}"
      ]
     },
     "execution_count": 2,
     "metadata": {},
     "output_type": "execute_result"
    }
   ],
   "source": [
    "import ndjson\n",
    "import geojson\n",
    "with open(\"./data/denmark-addresses.geojson\") as f:\n",
    "    addresses = geojson.FeatureCollection(ndjson.load(f))\n",
    "addresses[\"features\"][0]"
   ]
  },
  {
   "cell_type": "code",
   "execution_count": 3,
   "metadata": {},
   "outputs": [
    {
     "data": {
      "text/plain": [
       "{\"geometry\": {\"coordinates\": [[[[10.520192, 55.973105], [10.535739, 55.936735], [10.576125, 55.931714], [10.60064, 55.906407], [10.583214, 55.868533], [10.530007, 55.851764], [10.527229, 55.795395], [10.550752, 55.769286], [10.621105, 55.764659], [10.648487, 55.80793], [10.64123, 55.837169], [10.679231, 55.870833], [10.677298, 55.880248], [10.688761, 55.894317], [10.688426, 55.903941], [10.67483, 55.924849], [10.687879, 55.894025], [10.66203, 55.878645], [10.633199, 55.877824], [10.609962, 55.90765], [10.652637, 55.916494], [10.581459, 55.946974], [10.562507, 56.002626], [10.520192, 55.973105]]], [[[10.615374, 55.906508], [10.617833, 55.905325], [10.619537, 55.907438], [10.616313, 55.908207], [10.615374, 55.906508]]], [[[10.61605, 55.902743], [10.618893, 55.900427], [10.623756, 55.902789], [10.619349, 55.904152], [10.61605, 55.902743]]], [[[10.628855, 55.897303], [10.634722, 55.890046], [10.646925, 55.889959], [10.631092, 55.899392], [10.628855, 55.897303]]], [[[10.630631, 55.907589], [10.631244, 55.907004], [10.632816, 55.909036], [10.631151, 55.908853], [10.630631, 55.907589]]], [[[10.638885, 55.895157], [10.639295, 55.894572], [10.639765, 55.894546], [10.639803, 55.895198], [10.638885, 55.895157]]], [[[10.642205, 55.897429], [10.646395, 55.896283], [10.651789, 55.899611], [10.643402, 55.900839], [10.642205, 55.897429]]], [[[10.647286, 55.907227], [10.647407, 55.907089], [10.647959, 55.907005], [10.647502, 55.907561], [10.647286, 55.907227]]], [[[10.64849, 55.906074], [10.64892, 55.905661], [10.64969, 55.905466], [10.648612, 55.906111], [10.64849, 55.906074]]], [[[10.64896, 55.885731], [10.653632, 55.883875], [10.655196, 55.885772], [10.650373, 55.887159], [10.64896, 55.885731]]], [[[10.64915, 55.902327], [10.652288, 55.899711], [10.658665, 55.904361], [10.650707, 55.90498], [10.64915, 55.902327]]], [[[10.650797, 55.893001], [10.652673, 55.893109], [10.652928, 55.893471], [10.651891, 55.893809], [10.650797, 55.893001]]], [[[10.656713, 55.888355], [10.656929, 55.888203], [10.656917, 55.887731], [10.657156, 55.888373], [10.656713, 55.888355]]], [[[10.660073, 55.889276], [10.660763, 55.89028], [10.660633, 55.890475], [10.660477, 55.890504], [10.660073, 55.889276]]], [[[10.663893, 55.885542], [10.66538, 55.884088], [10.668065, 55.884272], [10.666209, 55.88661], [10.663893, 55.885542]]], [[[10.665695, 55.907328], [10.666778, 55.907217], [10.669581, 55.908343], [10.669916, 55.908839], [10.665695, 55.907328]]], [[[10.666808, 55.914121], [10.666887, 55.913958], [10.667045, 55.913899], [10.667017, 55.914088], [10.666808, 55.914121]]], [[[10.666831, 55.931525], [10.673833, 55.929615], [10.675892, 55.931944], [10.672107, 55.934458], [10.666831, 55.931525]]], [[[10.689308, 55.926258], [10.69389, 55.926188], [10.701732, 55.928748], [10.692151, 55.927832], [10.689308, 55.926258]]], [[[10.706686, 55.930715], [10.71134, 55.931907], [10.713489, 55.933178], [10.708953, 55.931611], [10.706686, 55.930715]]], [[[10.746313, 55.947952], [10.754687, 55.943749], [10.767661, 55.944512], [10.763445, 55.94777], [10.746313, 55.947952]]], [[[10.775566, 55.936659], [10.775957, 55.93601], [10.776944, 55.935418], [10.775657, 55.936787], [10.775566, 55.936659]]], [[[10.784025, 55.934148], [10.786262, 55.933785], [10.790387, 55.933707], [10.79356, 55.93412], [10.784025, 55.934148]]]], \"type\": \"MultiPolygon\"}, \"properties\": {\"admin_level\": 7, \"boundary\": \"administrative\", \"local_name\": \"Samsø Kommune\", \"name\": \"Samsø Municipality\", \"name_en\": \"Samsø Municipality\", \"osm_id\": -1933205, \"parents\": \"-1319935,-50046\"}, \"type\": \"Feature\"}"
      ]
     },
     "execution_count": 3,
     "metadata": {},
     "output_type": "execute_result"
    }
   ],
   "source": [
    "with open(\"./data/denmark-adm7.geojson\") as f:\n",
    "    administrative = geojson.load(f)\n",
    "administrative[\"features\"][0]"
   ]
  },
  {
   "cell_type": "markdown",
   "metadata": {},
   "source": [
    "<p>We could print out the different municipalities and compare it to cities according to the data</p>"
   ]
  },
  {
   "cell_type": "code",
   "execution_count": 4,
   "metadata": {},
   "outputs": [
    {
     "name": "stdout",
     "output_type": "stream",
     "text": [
      "['Aabenraa', 'Aabybro', 'Aakirkeby', 'Aalborg', 'Aalborg SV', 'Aalborg SØ', 'Aalborg Øst', 'Aalestrup', 'Aarhus C', 'Aarhus N', 'Aarhus V', 'Aars', 'Aarup', 'Agedrup', 'Agerbæk', 'Agerskov', 'Agersø', 'Albertslund', 'Allerød', 'Allinge', 'Allingåbro', 'Almind', 'Anholt', 'Ans By', 'Ansager', 'Arden', 'Asaa', 'Askeby', 'Askø', 'Asnæs', 'Asperup', 'Assens', 'Augustenborg', 'Aulum', 'Auning', 'Avernakø', 'Bagenkop', 'Bagsværd', 'Balle', 'Ballerup', 'Bandholm', 'Barrit', 'Barsø', 'Beder', 'Bedsted Thy', 'Bevtoft', 'Billum', 'Billund', 'Bindslev', 'Birkerød', 'Birkholm', 'Bjerringbro', 'Bjert', 'Bjæverskov', 'Bjørnø', 'Blokhus', 'Blommenslyst', 'Blåvand', 'Boeslunde', 'Bogense', 'Bogø By', 'Bolderslev', 'Bording', 'Borre', 'Borup', 'Brabrand', 'Bramming', 'Brande', 'Branderup J', 'Bredebro', 'Bredsten', 'Brenderup Fyn', 'Broager', 'Broby', 'Brovst', 'Bryrup', 'Brædstrup', 'Brøndby', 'Brøndby Strand', 'Brønderslev', 'Brønshøj', 'Brørup', 'Bylderup-Bov', 'Bække', 'Bækmarksbro', 'Bælum', 'Børkop', 'Bøvlingbjerg', 'Charlottenlund', 'Christiansfeld', 'Dalby', 'Dalmose', 'Dannemare', 'Daugård', 'Dianalund', 'Dragør', 'Dronninglund', 'Dronningmølle', 'Dybvad', 'Dyssegård', 'Ebberup', 'Ebeltoft', 'Egernsund', 'Egtved', 'Egå', 'Ejby', 'Ejstrupholm', 'Endelave', 'Engesvang', 'Errindlev', 'Erslev', 'Esbjerg', 'Esbjerg N', 'Esbjerg V', 'Esbjerg Ø', 'Eskebjerg', 'Eskilstrup', 'Espergærde', 'Faaborg', 'Fanø', 'Farsø', 'Farum', 'Faxe', 'Faxe Ladeplads', 'Fejø', 'Femø', 'Ferritslev Fyn', 'Fjenneslev', 'Fjerritslev', 'Flemming', 'Fredensborg', 'Fredericia', 'Frederiksberg', 'Frederiksberg C', 'Frederikshavn', 'Frederikssund', 'Frederiksværk', 'Frørup', 'Frøstrup', 'Fuglebjerg', 'Fur', 'Fårevejle', 'Fårup', 'Fårvang', 'Føllenslev', 'Føvling', 'Gadbjerg', 'Gadstrup', 'Galten', 'Gandrup', 'Gedser', 'Gedsted', 'Gedved', 'Gelsted', 'Gentofte', 'Gesten', 'Gilleleje', 'Gislev', 'Gislinge', 'Gistrup', 'Give', 'Gjerlev J', 'Gjern', 'Glamsbjerg', 'Glejbjerg', 'Glesborg', 'Glostrup', 'Glumsø', 'Gram', 'Gredstedbro', 'Grenaa', 'Greve', 'Grevinge', 'Grindsted', 'Gråsten', 'Græsted', 'Gudbjerg Sydfyn', 'Gudhjem', 'Gudme', 'Guldborg', 'Gørding', 'Gørlev', 'Gørløse', 'Haarby', 'Haderslev', 'Haderup', 'Hadsten', 'Hadsund', 'Hals', 'Hammel', 'Hampen', 'Hanstholm', 'Harboøre', 'Harlev J', 'Harndrup', 'Harpelunde', 'Hasle', 'Haslev', 'Hasselager', 'Havdrup', 'Havndal', 'Hedehusene', 'Hedensted', 'Hejls', 'Hejnsvig', 'Hellebæk', 'Hellerup', 'Helsinge', 'Helsingør', 'Hemmet', 'Henne', 'Herfølge', 'Herlev', 'Herlufmagle', 'Herning', 'Hesselager', 'Hillerød', 'Hinnerup', 'Hirtshals', 'Hjallerup', 'Hjerm', 'Hjortshøj', 'Hjørring', 'Hobro', 'Holbæk', 'Holeby', 'Holmegaard', 'Holstebro', 'Holsted', 'Holte', 'Horbelev', 'Hornbæk', 'Hornslet', 'Hornsyld', 'Horsens', 'Horslunde', 'Hovborg', 'Hovedgård', 'Humble', 'Humlebæk', 'Hundested', 'Hundslund', 'Hurup Thy', 'Hvalsø', 'Hvide Sande', 'Hvidovre', 'Hårlev', 'Højbjerg', 'Højby', 'Højer', 'Højslev', 'Høng', 'Hørning', 'Hørsholm', 'Hørve', 'Idestrup', 'Ikast', 'Ishøj', 'Janderup Vestj', 'Jelling', 'Jerslev J', 'Jerslev Sjælland', 'Jerup', 'Jordrup', 'Juelsminde', 'Jyderup', 'Jyllinge', 'Jystrup Midtsj', 'Jægerspris', 'Kalundborg', 'Kalvehave', 'Karby', 'Karise', 'Karlslunde', 'Karrebæksminde', 'Karup J', 'Kastrup', 'Kerteminde', 'Kettinge', 'Kibæk', 'Kirke Eskilstrup', 'Kirke Hyllinge', 'Kirke Såby', 'Kjellerup', 'Klampenborg', 'Klarup', 'Klemensker', 'Klippinge', 'Klovborg', 'Knebel', 'Kokkedal', 'Kolding', 'Kolind', 'Kongens Lyngby', 'Kongerslev', 'Korsør', 'Kruså', 'Kvistgård', 'Kværndrup', 'København K', 'København N', 'København NV', 'København S', 'København SV', 'København V', 'København Ø', 'Køge', 'Langebæk', 'Langeskov', 'Langå', 'Lejre', 'Lem St', 'Lemming', 'Lemvig', 'Lille Skensved', 'Lintrup', 'Liseleje', 'Lundby', 'Lunderskov', 'Lynge', 'Lystrup', 'Lyø', 'Låsby', 'Læsø', 'Løgstrup', 'Løgstør', 'Løgumkloster', 'Løkken', 'Løsning', 'Malling', 'Mariager', 'Maribo', 'Marslev', 'Marstal', 'Martofte', 'Melby', 'Mern', 'Mesinge', 'Middelfart', 'Millinge', 'Morud', 'Munke Bjergby', 'Munkebo', 'Måløv', 'Mårslet', 'Møldrup', 'Mørke', 'Mørkøv', 'Nakskov', 'Nexø', 'Nibe', 'Nimtofte', 'Nivå', 'Nordborg', 'Nordhavn', 'Nyborg', 'Nykøbing F', 'Nykøbing M', 'Nykøbing Sj', 'Nyrup', 'Nysted', 'Nærum', 'Næstved', 'Nørager', 'Nørre Aaby', 'Nørre Alslev', 'Nørre Asmindrup', 'Nørre Nebel', 'Nørre Snede', 'Nørreballe', 'Nørresundby', 'Odder', 'Odense C', 'Odense M', 'Odense N', 'Odense NV', 'Odense NØ', 'Odense S', 'Odense SV', 'Odense SØ', 'Odense V', 'Oksbøl', 'Omø', 'Orø', 'Otterup', 'Oure', 'Outrup', 'Padborg', 'Pandrup', 'Præstø', 'Randbøl', 'Randers C', 'Randers NV', 'Randers NØ', 'Randers SV', 'Randers SØ', 'Ranum', 'Rask Mølle', 'Redsted M', 'Regstrup', 'Ribe', 'Ringe', 'Ringkøbing', 'Ringsted', 'Risskov', 'Roskilde', 'Roslev', 'Rude', 'Rudkøbing', 'Ruds Vedby', 'Rungsted Kyst', 'Ry', 'Rynkeby', 'Ryomgård', 'Ryslinge', 'Rødby', 'Rødding', 'Rødekro', 'Rødkærsbro', 'Rødovre', 'Rødvig Stevns', 'Rømø', 'Rønde', 'Rønne', 'Rønnede', 'Rørvig', 'Sabro', 'Sakskøbing', 'Saltum', 'Samsø', 'Sandved', 'Sejerø', 'Silkeborg', 'Sindal', 'Sjællands Odde', 'Sjølund', 'Skagen', 'Skals', 'Skamby', 'Skanderborg', 'Skibby', 'Skive', 'Skjern', 'Skodsborg', 'Skovlunde', 'Skårup Fyn', 'Skælskør', 'Skærbæk', 'Skævinge', 'Skødstrup', 'Skørping', 'Slagelse', 'Slangerup', 'Smørum', 'Snedsted', 'Snekkersten', 'Snertinge', 'Solbjerg', 'Solrød Strand', 'Sommersted', 'Sorring', 'Sorø', 'Spentrup', 'Spjald', 'Sporup', 'Spøttrup', 'Stakroge', 'Stege', 'Stenderup', 'Stenlille', 'Stenløse', 'Stenstrup', 'Stensved', 'Stoholm Jyll', 'Stokkemarke', 'Store Fuglede', 'Store Heddinge', 'Store Merløse', 'Storvorde', 'Stouby', 'Strandby', 'Struer', 'Strynø', 'Strøby', 'Stubbekøbing', 'Støvring', 'Suldrup', 'Sulsted', 'Sunds', 'Svaneke', 'Svebølle', 'Svendborg', 'Svenstrup J', 'Svinninge', 'Sydals', 'Sæby', 'Søborg', 'Søby Ærø', 'Søllested', 'Sønder Felding', 'Sønder Omme', 'Sønder Stenderup', 'Sønderborg', 'Søndersø', 'Sørvad', 'Taastrup', 'Tappernøje', 'Tarm', 'Terndrup', 'Them', 'Thisted', 'Thorsø', 'Thyborøn', 'Thyholm', 'Tikøb', 'Tilst', 'Tim', 'Tinglev', 'Tistrup', 'Tisvildeleje', 'Tjele', 'Tjæreborg', 'Toftlund', 'Tommerup', 'Toreby L', 'Torrig L', 'Tranbjerg J', 'Tranekær', 'Trige', 'Trustrup', 'Tune', 'Tunø', 'Tureby', 'Tylstrup', 'Tårs', 'Tølløse', 'Tønder', 'Tørring', 'Ugerløse', 'Uldum', 'Ulfborg', 'Ullerslev', 'Ulstrup', 'Vadum', 'Valby', 'Vallensbæk', 'Vallensbæk Strand', 'Vamdrup', 'Vandel', 'Vanløse', 'Varde', 'Vedbæk', 'Veflinge', 'Vejby', 'Vejen', 'Vejers Strand', 'Vejle', 'Vejle Øst', 'Vejstrup', 'Veksø Sjælland', 'Vemb', 'Vemmelev', 'Vesløs', 'Vestbjerg', 'Vester Skerninge', 'Vesterborg', 'Vestervig', 'Viborg', 'Viby J', 'Viby Sjælland', 'Videbæk', 'Vig', 'Vildbjerg', 'Vils', 'Vinderup', 'Vipperød', 'Virum', 'Vissenbjerg', 'Viuf', 'Vodskov', 'Vojens', 'Vonge', 'Vorbasse', 'Vordingborg', 'Vrå', 'Væggerløse', 'Værløse', 'Åbyhøj', 'Ålbæk', 'Ålsgårde', 'Årre', 'Årslev', 'Ærøskøbing', 'Ølgod', 'Ølsted', 'Ølstykke', 'Ørbæk', 'Ørnhøj', 'Ørsted', 'Ørum Djurs', 'Østbirk', 'Øster Assels', 'Øster Ulslev', 'Østermarie', 'Østervrå']\n",
      "['Aabenraa Municipality', 'Aalborg Municipality', 'Aarhus Municipality', 'Albertslund Municipality', 'Allerød Municipality', 'Assens Municipality', 'Ballerup Municipality', 'Billund Municipality', 'Bornholms Regionskommune', 'Brøndby Municipality', 'Brønderslev Municipality', 'Copenhagen Municipality', 'Dragør Municipality', 'Egedal Municipality', 'Esbjerg Municipality', 'Faaborg-Midtfyn Municipality', 'Fanø Kommune', 'Favrskov Municipality', 'Faxe Municipality', 'Fredensborg Municipality', 'Fredericia Municipality', 'Frederiksberg Municipality', 'Frederikshavn Municipality', 'Frederikssund Municipality', 'Furesø Municipality', 'Gentofte Municipality', 'Gladsaxe Municipality', 'Glostrup Municipality', 'Greve Municipality', 'Gribskov Municipality', 'Guldborgsund Municipality', 'Haderslev Municipality', 'Halsnæs Municipality', 'Hedensted Municipality', 'Helsingør Municipality', 'Herlev Municipality', 'Herning Municipality', 'Hillerød Municipality', 'Hjørring Municipality', 'Holbæk Municipality', 'Holstebro Municipality', 'Horsens Municipality', 'Hvidovre Municipality', 'Høje-Taastrup Municipality', 'Hørsholm Municipality', 'Ikast-Brande Municipality', 'Ishøj Municipality', 'Jammerbugt Municipality', 'Kalundborg Municipality', 'Kerteminde Kommune', 'Kolding Municipality', 'Køge Municipality', 'Langeland Municipality', 'Lejre Kommune', 'Lemvig Municipality', 'Lolland Municipality', 'Lyngby-Taarbæk Municipality', 'Læsø Kommune', 'Mariagerfjord Municipality', 'Middelfart Municipality', 'Morsø Municipality', 'Naestved Municipality', 'Norddjurs Municipality', 'Nordfyn Municipality', 'Nyborg Municipality', 'Odder Municipality', 'Odense Kommune', 'Odsherred Municipality', 'Randers Municipality', 'Rebild Municipality', 'Ringkøbing-Skjern Municipality', 'Ringsted Municipality', 'Roskilde Municipality', 'Rudersdal Municipality', 'Rødovre Municipality', 'Samsø Municipality', 'Silkeborg Municipality', 'Skanderborg Municipality', 'Skive Municipality', 'Slagelse Municipality', 'Solrød Municipality', 'Sorø Municipality', 'Stevns Municipality', 'Struer Municipality', 'Svendborg Municipality', 'Syddjurs Municipality', 'Sønderborg Municipality', 'Thisted Municipality', 'Tårnby Kommune', 'Tønder Municipality', 'Vallensbæk Municipality', 'Varde Municipality', 'Vejen Municipality', 'Vejle Municipality', 'Vesthimmerland Municipality', 'Viborg Municipality', 'Vordingborg Municipality', 'Ærø Municipality']\n"
     ]
    }
   ],
   "source": [
    "cities = list(set(map(lambda x: x['properties'][\"city\"], addresses[\"features\"])))\n",
    "cities.sort()\n",
    "print(cities)\n",
    "municipalities = list(set(map(lambda x: x['properties'][\"name\"], administrative[\"features\"])))\n",
    "municipalities.sort()\n",
    "print(municipalities)"
   ]
  },
  {
   "cell_type": "code",
   "execution_count": 5,
   "metadata": {},
   "outputs": [
    {
     "data": {
      "text/plain": [
       "'Norddjurs Kommune'"
      ]
     },
     "execution_count": 5,
     "metadata": {},
     "output_type": "execute_result"
    }
   ],
   "source": [
    "import geodata\n",
    "\n",
    "geodata.municipality(*addresses['features'][0]['geometry']['coordinates'])\n"
   ]
  },
  {
   "cell_type": "code",
   "execution_count": 6,
   "metadata": {},
   "outputs": [
    {
     "data": {
      "image/png": "[encoded data removed]",
      "text/plain": [
       "<Figure size 640x480 with 1 Axes>"
      ]
     },
     "metadata": {},
     "output_type": "display_data"
    }
   ],
   "source": [
    "import random\n",
    "municipalities = list(map(lambda x: geodata.municipality(*x['geometry']['coordinates']), random.sample(addresses[\"features\"], 30000)))\n",
    "\n",
    "import matplotlib.pyplot as plt\n",
    "import pandas as pd\n",
    "\n",
    "df = pd.Series(municipalities)\n",
    "\n",
    "\n",
    "df.value_counts().sort_index().plot(kind='bar', rot=0, ylabel='count')\n",
    "plt.show()"
   ]
  },
  {
   "cell_type": "code",
   "execution_count": 7,
   "metadata": {},
   "outputs": [],
   "source": [
    "import numpy as np\n",
    "\n",
    "sample_addr = np.random.uniform(addresses[\"features\"], 30000)\n",
    "sample_municipalities = list(map(lambda x: geodata.municipality(*x['geometry']['coordinates']), sample_addr))\n",
    "\n",
    "jsonArr = []\n",
    "for i in range(len(sample_addr)):\n",
    "    jsonArr.append({\n",
    "        \"location\": sample_addr[i]['geometry']['coordinates'],\n",
    "        \"municipality\": sample_municipalities[i]\n",
    "    })"
   ]
  },
  {
   "cell_type": "code",
   "execution_count": 9,
   "metadata": {},
   "outputs": [],
   "source": [
    "import json\n",
    "json_object = json.dumps(jsonArr, indent=4)\n",
    " \n",
    "# Writing to sample.json\n",
    "with open(\"data/sample.json\", \"w\") as outfile:\n",
    "    outfile.write(json_object)"
   ]
  }
 ],
 "metadata": {
  "kernelspec": {
   "display_name": "tf",
   "language": "python",
   "name": "python3"
  },
  "language_info": {
   "codemirror_mode": {
    "name": "ipython",
    "version": 3
   },
   "file_extension": ".py",
   "mimetype": "text/x-python",
   "name": "python",
   "nbconvert_exporter": "python",
   "pygments_lexer": "ipython3",
   "version": "3.9.18"
  }
 },
 "nbformat": 4,
 "nbformat_minor": 2
}
